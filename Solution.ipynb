{
  "cells": [
    {
      "cell_type": "markdown",
      "metadata": {
        "tags": [],
        "id": "I0zDP2xdOBca"
      },
      "source": [
        "# Lab | Data Structures"
      ]
    },
    {
      "cell_type": "markdown",
      "metadata": {
        "id": "AJPm7uwQOBcb"
      },
      "source": [
        "## Exercise: Managing Customer Orders\n",
        "\n",
        "As part of a business venture, you are starting an online store that sells various products. To ensure smooth operations, you need to develop a program that manages customer orders and inventory.\n",
        "\n",
        "Follow the steps below to complete the exercise:\n",
        "\n",
        "1. Define a list called `products` that contains the following items: \"t-shirt\", \"mug\", \"hat\", \"book\", \"keychain\".\n",
        "\n",
        "2. Create an empty dictionary called `inventory`.\n",
        "\n",
        "3. Ask the user to input the quantity of each product available in the inventory. Use the product names from the `products` list as keys in the `inventory` dictionary and assign the respective quantities as values.\n",
        "\n",
        "4. Create an empty set called `customer_orders`.\n",
        "\n",
        "5. Ask the user to input the name of three products that a customer wants to order (from those in the products list, meaning three products out of \"t-shirt\", \"mug\", \"hat\", \"book\" or \"keychain\". Add each product name to the `customer_orders` set.\n",
        "\n",
        "6. Print the products in the `customer_orders` set.\n",
        "\n",
        "7. Calculate the following order statistics:\n",
        "   - Total Products Ordered: The total number of products in the `customer_orders` set.\n",
        "   - Percentage of Products Ordered: The percentage of products ordered compared to the total available products.\n",
        "   \n",
        "   Store these statistics in a tuple called `order_status`.\n",
        "\n",
        "8. Print the order statistics using the following format:\n",
        "   ```\n",
        "   Order Statistics:\n",
        "   Total Products Ordered: <total_products_ordered>\n",
        "   Percentage of Products Ordered: <percentage_ordered>%\n",
        "   ```\n",
        "\n",
        "9. Update the inventory by subtracting 1 from the quantity of each product. Modify the `inventory` dictionary accordingly.\n",
        "\n",
        "10. Print the updated inventory, displaying the quantity of each product on separate lines.\n",
        "\n",
        "Solve the exercise by implementing the steps using the Python concepts of lists, dictionaries, sets, and basic input/output operations."
      ]
    },
    {
      "cell_type": "code",
      "source": [
        "# Step 1\n",
        "products = [\"t-shirt\", \"mug\", \"hat\", \"book\", \"keychain\"]\n",
        "\n",
        "# Step 2\n",
        "inventory = {}\n",
        "\n",
        "# Step 3 :\n",
        "\n",
        "# for product in products:\n",
        "#   amount = int(input(f\"how many {product}s do you want: \"))\n",
        "#   inventory[product] = amount\n",
        "\n",
        "# step 3 extra steps:\n",
        "flags = {prod + \" is set\": False for prod in products}\n",
        "# print(flags.values(), not all(flags.values()))\n",
        "while not all(flags.values()):\n",
        "  curr_prod = None\n",
        "  try:\n",
        "    for product in products:\n",
        "      if product in inventory: continue\n",
        "      curr_prod = product\n",
        "      amount = int(input(f\"how many {product}s do you want: \"))\n",
        "      inventory[product] = amount\n",
        "      flags[product + \" is set\"] = True\n",
        "\n",
        "  except ValueError:\n",
        "    print(f\"That is not a number for {curr_prod}s \\N{angry face}: Try Again!\")\n",
        "\n",
        "print(flags.values(), not all(flags.values()))\n",
        "print(inventory)\n",
        "#%whos"
      ],
      "metadata": {
        "colab": {
          "base_uri": "https://localhost:8080/"
        },
        "id": "sLmBVg9EuTkw",
        "outputId": "e61722ee-551a-4817-e187-57e705f880dc"
      },
      "execution_count": 3,
      "outputs": [
        {
          "output_type": "stream",
          "name": "stdout",
          "text": [
            "how many t-shirts do you want: ww\n",
            "That is not a number for t-shirts 😠: Try Again!\n",
            "how many t-shirts do you want: 33\n",
            "how many mugs do you want: ee\n",
            "That is not a number for mugs 😠: Try Again!\n",
            "how many mugs do you want: 24\n",
            "how many hats do you want: 12\n",
            "how many books do you want: 42\n",
            "how many keychains do you want: rr\n",
            "That is not a number for keychains 😠: Try Again!\n",
            "how many keychains do you want: 23\n",
            "dict_values([True, True, True, True, True]) False\n",
            "{'t-shirt': 33, 'mug': 24, 'hat': 12, 'book': 42, 'keychain': 23}\n"
          ]
        }
      ]
    },
    {
      "cell_type": "code",
      "source": [
        "# Step 4\n",
        "customer_order = set()\n",
        "# Step 5\n",
        "count = 3\n",
        "while count > 0:\n",
        "  try:\n",
        "    for _ in range(count,0,-1):\n",
        "      item = input(f\"you have {count} product types to pick [{list(set(products) - customer_order)}]:\\n\")\n",
        "      if item not in product:\n",
        "        raise Exception(f'{item} not in product inventory. Try Again.')\n",
        "      count -= 1\n",
        "      customer_order.add(item)\n",
        "\n",
        "  except Exception as error_msg:\n",
        "    print(error_msg)"
      ],
      "metadata": {
        "colab": {
          "base_uri": "https://localhost:8080/"
        },
        "id": "R8vydTUn1per",
        "outputId": "8601e5f9-c1db-46f9-fe69-9a83e647f9ff"
      },
      "execution_count": 16,
      "outputs": [
        {
          "name": "stdout",
          "output_type": "stream",
          "text": [
            "you have 3 inventory types to pick [['mug', 'hat', 'keychain', 't-shirt', 'book']]:\n",
            "mug\n",
            "you have 2 inventory types to pick [['keychain', 't-shirt', 'book', 'hat']]:\n",
            "hat\n",
            "you have 1 inventory types to pick [['keychain', 't-shirt', 'book']]:\n",
            "keychain\n"
          ]
        }
      ]
    },
    {
      "cell_type": "code",
      "source": [
        "#step 6\n",
        "print(customer_order)\n",
        "#step 7 & 8\n",
        "order_status = (len(customer_order), f\"{len(customer_order)/ len(inventory)*100}%\")\n",
        "print(\"Order Statistics:\", \\\n",
        "      f\"Total Products Ordered: {order_status[0]}\", \\\n",
        "      f\"Percentage of Products Ordered: {order_status[1]}%\",\n",
        "      sep=\"\\n\")\n",
        "\n",
        "# Step 9 & 10\n",
        "for order in customer_order: inventory[order] -= 1\n",
        "for inv in inventory: print(f\"Amount of {inv}: {inventory[inv]}\")\n"
      ],
      "metadata": {
        "id": "X8vF0I2G1rB5",
        "colab": {
          "base_uri": "https://localhost:8080/"
        },
        "outputId": "91dde2a0-f936-4834-ad8f-d41c46330dc4"
      },
      "execution_count": 21,
      "outputs": [
        {
          "output_type": "stream",
          "name": "stdout",
          "text": [
            "{'mug', 'keychain', 'hat'}\n",
            "Order Statistics:\n",
            "Total Products Ordered: 3\n",
            "Percentage of Products Ordered: 60.0%%\n",
            "Amount of t-shirt: 33\n",
            "Amount of mug: 23\n",
            "Amount of hat: 11\n",
            "Amount of book: 42\n",
            "Amount of keychain: 22\n"
          ]
        }
      ]
    }
  ],
  "metadata": {
    "kernelspec": {
      "display_name": "Python 3 (ipykernel)",
      "language": "python",
      "name": "python3"
    },
    "language_info": {
      "codemirror_mode": {
        "name": "ipython",
        "version": 3
      },
      "file_extension": ".py",
      "mimetype": "text/x-python",
      "name": "python",
      "nbconvert_exporter": "python",
      "pygments_lexer": "ipython3",
      "version": "3.9.13"
    },
    "colab": {
      "provenance": []
    }
  },
  "nbformat": 4,
  "nbformat_minor": 0
}